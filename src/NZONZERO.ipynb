{
 "cells": [
  {
   "cell_type": "code",
   "execution_count": 69,
   "metadata": {
    "id": "Fafr_BB10P_D",
    "tags": []
   },
   "outputs": [],
   "source": [
    "import os\n",
    "import pandas as pd\n",
    "from PIL import Image\n",
    "import numpy as np\n",
    "import torch\n",
    "from torch.utils.data import DataLoader, Dataset\n",
    "import torchvision.transforms as transforms\n",
    "import torch.nn.functional as F\n",
    "from torch import nn\n",
    "import matplotlib.pyplot as plt\n",
    "from tqdm import tqdm\n",
    "from PIL import Image\n",
    "import os\n",
    "from einops import rearrange, repeat\n",
    "import einops\n",
    "from glob import glob\n",
    "from math import log\n",
    "import math\n",
    "from tqdm import tqdm\n",
    "import pickle\n",
    "import matplotlib.pyplot as plt\n",
    "import nibabel as nib\n",
    "import nilearn as nil\n",
    "from nilearn.image import index_img\n",
    "from torch.utils.data import DataLoader, Subset\n",
    "import random"
   ]
  },
  {
   "cell_type": "code",
   "execution_count": 39,
   "metadata": {},
   "outputs": [
    {
     "name": "stdout",
     "output_type": "stream",
     "text": [
      "The image resolution is: 109x91\n"
     ]
    },
    {
     "data": {
      "image/jpeg": "[encoded data removed]",
      "image/png": "[encoded data removed]",
      "text/plain": [
       "<PIL.Image.Image image mode=L size=109x91>"
      ]
     },
     "metadata": {},
     "output_type": "display_data"
    }
   ],
   "source": [
    "###--Load image with PIL and display--###\n",
    "image_path = \"./ground_truth.jpg\"\n",
    "image = Image.open(image_path)\n",
    "W, H = image.size\n",
    "\n",
    "image = image.resize((W, H))\n",
    "\n",
    "# Print the dimensions\n",
    "print(f\"The image resolution is: {W}x{H}\")\n",
    "image.show()"
   ]
  },
  {
   "cell_type": "code",
   "execution_count": 40,
   "metadata": {},
   "outputs": [],
   "source": [
    "device = torch.device('cuda' if torch.cuda.is_available() else 'cpu')"
   ]
  },
  {
   "cell_type": "code",
   "execution_count": 41,
   "metadata": {},
   "outputs": [
    {
     "name": "stdout",
     "output_type": "stream",
     "text": [
      "YES! File found at: /home/idies/workspace/Temporary/ecardillo/scratch/fmri/jubin-ds.nii\n"
     ]
    },
    {
     "data": {
      "text/plain": [
       "(91, 109, 91, 1200)"
      ]
     },
     "execution_count": 41,
     "metadata": {},
     "output_type": "execute_result"
    }
   ],
   "source": [
    "###- DS LOCATION CONFIRMATION -###\n",
    "\n",
    "jubin_ds = \"/home/idies/workspace/Temporary/ecardillo/scratch/fmri/jubin-ds.nii\"\n",
    "\n",
    "# verify the file exists\n",
    "if os.path.exists(jubin_ds):\n",
    "    print(f\"YES! File found at: {jubin_ds}\")\n",
    "else:\n",
    "    print(f\"Error: File not found at: {jubin_ds}\")\n",
    "    \n",
    "# loads ds\n",
    "fmri = nib.load(jubin_ds)\n",
    "fmri.shape"
   ]
  },
  {
   "cell_type": "code",
   "execution_count": 42,
   "metadata": {},
   "outputs": [
    {
     "name": "stdout",
     "output_type": "stream",
     "text": [
      "================================================================================\n",
      "Shape: (91, 109, 91, 1200)\n",
      "Header information:\n",
      "<class 'nibabel.nifti1.Nifti1Header'> object, endian='<'\n",
      "sizeof_hdr      : 348\n",
      "data_type       : np.bytes_(b'')\n",
      "db_name         : np.bytes_(b'')\n",
      "extents         : 0\n",
      "session_error   : 0\n",
      "regular         : np.bytes_(b'r')\n",
      "dim_info        : 0\n",
      "dim             : [   4   91  109   91 1200    1    1    1]\n",
      "intent_p1       : 0.0\n",
      "intent_p2       : 0.0\n",
      "intent_p3       : 0.0\n",
      "intent_code     : none\n",
      "datatype        : float32\n",
      "bitpix          : 32\n",
      "slice_start     : 0\n",
      "pixdim          : [-1.    2.    2.    2.    0.72  0.    0.    0.  ]\n",
      "vox_offset      : 0.0\n",
      "scl_slope       : nan\n",
      "scl_inter       : nan\n",
      "slice_end       : 0\n",
      "slice_code      : unknown\n",
      "xyzt_units      : 10\n",
      "cal_max         : 0.0\n",
      "cal_min         : 0.0\n",
      "slice_duration  : 0.0\n",
      "toffset         : 0.0\n",
      "glmax           : 0\n",
      "glmin           : 0\n",
      "descrip         : np.bytes_(b'FSL5.0')\n",
      "aux_file        : np.bytes_(b'')\n",
      "qform_code      : mni\n",
      "sform_code      : mni\n",
      "quatern_b       : 0.0\n",
      "quatern_c       : 1.0\n",
      "quatern_d       : 0.0\n",
      "qoffset_x       : 90.0\n",
      "qoffset_y       : -126.0\n",
      "qoffset_z       : -72.0\n",
      "srow_x          : [-2.  0.  0. 90.]\n",
      "srow_y          : [   0.    2.    0. -126.]\n",
      "srow_z          : [  0.   0.   2. -72.]\n",
      "intent_name     : np.bytes_(b'')\n",
      "magic           : np.bytes_(b'n+1')\n",
      "Number of slices: 1200\n",
      "================================================================================\n"
     ]
    }
   ],
   "source": [
    "###- DS METADATA -###\n",
    "\n",
    "print(\"=\" * 80)\n",
    "\n",
    "# ds shape\n",
    "print(f\"Shape: {fmri.get_fdata().shape}\")\n",
    "\n",
    "# characteristics of ds\n",
    "print(f\"Header information:\\n{fmri.header}\") \n",
    "\n",
    "# gets and displays num of slices in ds (typically 1200)\n",
    "num_slices = fmri.shape[-1]\n",
    "print(f\"Number of slices: {num_slices}\")\n",
    "\n",
    "print(\"=\" * 80)"
   ]
  },
  {
   "cell_type": "code",
   "execution_count": 146,
   "metadata": {},
   "outputs": [
    {
     "name": "stdout",
     "output_type": "stream",
     "text": [
      "-4.463201462811106 5.730761050590585e-17 5.128954352209998 (91, 109)\n",
      "0 255 (91, 109)\n"
     ]
    },
    {
     "data": {
      "image/png": "[encoded data removed]",
      "text/plain": [
       "<Figure size 640x480 with 1 Axes>"
      ]
     },
     "metadata": {},
     "output_type": "display_data"
    }
   ],
   "source": [
    "# gets volume\n",
    "single_volume = index_img(fmri, 50)\n",
    "arr = single_volume.get_fdata()\n",
    "\n",
    "# sets timepoint\n",
    "timepoint = 50\n",
    "\n",
    "# takes 50th slice of volume, 50th timepoint\n",
    "slice = arr[:,:, timepoint]\n",
    "\n",
    "# only takes slices with intensity (everything but bg)\n",
    "nonzero = slice[slice > 0]\n",
    "\n",
    "# takes only black spaces (all bg)\n",
    "back = slice == 0\n",
    "\n",
    "# takes the mean and standard deviation of the brain component\n",
    "m_, std_ = nonzero.mean(), nonzero.std()\n",
    "\n",
    "# normalizes \n",
    "norm_slice = (slice - m_) / std_\n",
    "norm_slice[back] = 0\n",
    "print(norm_slice.min(), norm_slice.mean(), norm_slice.max(), norm_slice.shape)\n",
    "plt.imshow(norm_slice)\n",
    "np.save('ground_truth.npy', norm_slice)\n",
    "min_val = norm_slice.min()\n",
    "max_val = norm_slice.max()\n",
    "\n",
    "# Stretch the values to fill the 0-255 range for the image\n",
    "scaled_slice = 255 * (norm_slice - min_val) / (max_val - min_val)\n",
    "\n",
    "# 2. Convert the scaled data to unsigned 8-bit integers (the standard for images)\n",
    "image_array = scaled_slice.astype(np.uint8)\n",
    "print(image_array.min(), image_array.max(), image_array.shape)\n",
    "\n",
    "# 3. Create an image from the array and save it\n",
    "img = Image.fromarray(image_array)\n",
    "img.save('ground_truth.jpg')"
   ]
  },
  {
   "cell_type": "code",
   "execution_count": 147,
   "metadata": {},
   "outputs": [
    {
     "data": {
      "text/plain": [
       "(array([3.000e+01, 4.600e+01, 8.800e+01, 8.830e+02, 7.336e+03, 1.141e+03,\n",
       "        3.250e+02, 5.900e+01, 6.000e+00, 5.000e+00]),\n",
       " array([-4.46320146, -3.50398588, -2.5447703 , -1.58555472, -0.62633914,\n",
       "         0.33287644,  1.29209203,  2.25130761,  3.21052319,  4.16973877,\n",
       "         5.12895435]),\n",
       " <BarContainer object of 10 artists>)"
      ]
     },
     "execution_count": 147,
     "metadata": {},
     "output_type": "execute_result"
    },
    {
     "data": {
      "image/png": "[encoded data removed]",
      "text/plain": [
       "<Figure size 640x480 with 1 Axes>"
      ]
     },
     "metadata": {},
     "output_type": "display_data"
    }
   ],
   "source": [
    "plt.hist(norm_slice.flatten())"
   ]
  },
  {
   "cell_type": "code",
   "execution_count": 148,
   "metadata": {},
   "outputs": [
    {
     "name": "stdout",
     "output_type": "stream",
     "text": [
      "Shape of transposed slice: (109, 91)\n",
      "Found 4502 non-zero brain pixels out of 9919 total pixels.\n",
      "Intensity range of brain pixels: [-4.4632, 5.1290]\n",
      "\n",
      "DataFrame created with non-zero pixels only.\n"
     ]
    },
    {
     "data": {
      "text/html": [
       "<div>\n",
       "<style scoped>\n",
       "    .dataframe tbody tr th:only-of-type {\n",
       "        vertical-align: middle;\n",
       "    }\n",
       "\n",
       "    .dataframe tbody tr th {\n",
       "        vertical-align: top;\n",
       "    }\n",
       "\n",
       "    .dataframe thead th {\n",
       "        text-align: right;\n",
       "    }\n",
       "</style>\n",
       "<table border=\"1\" class=\"dataframe\">\n",
       "  <thead>\n",
       "    <tr style=\"text-align: right;\">\n",
       "      <th></th>\n",
       "      <th>x_pos</th>\n",
       "      <th>y_pos</th>\n",
       "      <th>intensity</th>\n",
       "    </tr>\n",
       "  </thead>\n",
       "  <tbody>\n",
       "    <tr>\n",
       "      <th>0</th>\n",
       "      <td>0.555556</td>\n",
       "      <td>0.129630</td>\n",
       "      <td>0.068146</td>\n",
       "    </tr>\n",
       "    <tr>\n",
       "      <th>1</th>\n",
       "      <td>0.566667</td>\n",
       "      <td>0.129630</td>\n",
       "      <td>0.126463</td>\n",
       "    </tr>\n",
       "    <tr>\n",
       "      <th>2</th>\n",
       "      <td>0.400000</td>\n",
       "      <td>0.138889</td>\n",
       "      <td>0.261006</td>\n",
       "    </tr>\n",
       "    <tr>\n",
       "      <th>3</th>\n",
       "      <td>0.411111</td>\n",
       "      <td>0.138889</td>\n",
       "      <td>0.301404</td>\n",
       "    </tr>\n",
       "    <tr>\n",
       "      <th>4</th>\n",
       "      <td>0.422222</td>\n",
       "      <td>0.138889</td>\n",
       "      <td>0.339302</td>\n",
       "    </tr>\n",
       "  </tbody>\n",
       "</table>\n",
       "</div>"
      ],
      "text/plain": [
       "      x_pos     y_pos  intensity\n",
       "0  0.555556  0.129630   0.068146\n",
       "1  0.566667  0.129630   0.126463\n",
       "2  0.400000  0.138889   0.261006\n",
       "3  0.411111  0.138889   0.301404\n",
       "4  0.422222  0.138889   0.339302"
      ]
     },
     "execution_count": 148,
     "metadata": {},
     "output_type": "execute_result"
    }
   ],
   "source": [
    "###- BUILD DATAFRAME (NON-ZERO PIXELS ONLY) -###\n",
    "\n",
    "# Transpose the normalized slice from (91, 109) to (109, 91) so height=109, width=91\n",
    "bw_array = norm_slice.T\n",
    "height, width = bw_array.shape\n",
    "print(f\"Shape of transposed slice: {bw_array.shape}\")\n",
    "\n",
    "# Create a boolean mask to identify the non-zero pixels (the brain region)\n",
    "brain_mask = bw_array != 0\n",
    "\n",
    "# Use np.where to get the coordinates (indices) of the brain pixels\n",
    "# y_coords will be row indices (0-108), x_coords will be column indices (0-90)\n",
    "y_coords, x_coords = np.where(brain_mask)\n",
    "\n",
    "# Extract the intensity values for only the brain pixels using the mask\n",
    "intensity_vals = bw_array[brain_mask]\n",
    "\n",
    "num_brain_pixels = len(intensity_vals)\n",
    "print(f\"Found {num_brain_pixels} non-zero brain pixels out of {height * width} total pixels.\")\n",
    "\n",
    "# Normalize the coordinates of the brain pixels to the [0, 1] range\n",
    "x_pos_norm = x_coords / (width - 1)\n",
    "y_pos_norm = y_coords / (height - 1)\n",
    "\n",
    "# To normalize intensity, find the min and max of the BRAIN region only\n",
    "min_int = intensity_vals.min()\n",
    "max_int = intensity_vals.max()\n",
    "print(f\"Intensity range of brain pixels: [{min_int:.4f}, {max_int:.4f}]\")\n",
    "\n",
    "# Normalize the brain intensities to the [0, 1] range\n",
    "intensity_norm = (intensity_vals - min_int) / (max_int - min_int)\n",
    "\n",
    "# Create the DataFrame using only the segmented brain data\n",
    "df = pd.DataFrame({\n",
    "    \"x_pos\": x_pos_norm,\n",
    "    \"y_pos\": y_pos_norm,\n",
    "    \"intensity\": intensity_norm\n",
    "})\n",
    "\n",
    "print(\"\\nDataFrame created with non-zero pixels only.\")\n",
    "df.head()\n"
   ]
  },
  {
   "cell_type": "code",
   "execution_count": 149,
   "metadata": {},
   "outputs": [
    {
     "data": {
      "text/html": [
       "<div>\n",
       "<style scoped>\n",
       "    .dataframe tbody tr th:only-of-type {\n",
       "        vertical-align: middle;\n",
       "    }\n",
       "\n",
       "    .dataframe tbody tr th {\n",
       "        vertical-align: top;\n",
       "    }\n",
       "\n",
       "    .dataframe thead th {\n",
       "        text-align: right;\n",
       "    }\n",
       "</style>\n",
       "<table border=\"1\" class=\"dataframe\">\n",
       "  <thead>\n",
       "    <tr style=\"text-align: right;\">\n",
       "      <th></th>\n",
       "      <th>x_pos</th>\n",
       "      <th>y_pos</th>\n",
       "      <th>intensity</th>\n",
       "    </tr>\n",
       "  </thead>\n",
       "  <tbody>\n",
       "    <tr>\n",
       "      <th>count</th>\n",
       "      <td>4502.000000</td>\n",
       "      <td>4502.000000</td>\n",
       "      <td>4502.000000</td>\n",
       "    </tr>\n",
       "    <tr>\n",
       "      <th>mean</th>\n",
       "      <td>0.495365</td>\n",
       "      <td>0.500693</td>\n",
       "      <td>0.465297</td>\n",
       "    </tr>\n",
       "    <tr>\n",
       "      <th>std</th>\n",
       "      <td>0.193222</td>\n",
       "      <td>0.191691</td>\n",
       "      <td>0.104263</td>\n",
       "    </tr>\n",
       "    <tr>\n",
       "      <th>min</th>\n",
       "      <td>0.111111</td>\n",
       "      <td>0.129630</td>\n",
       "      <td>0.000000</td>\n",
       "    </tr>\n",
       "    <tr>\n",
       "      <th>25%</th>\n",
       "      <td>0.333333</td>\n",
       "      <td>0.342593</td>\n",
       "      <td>0.406371</td>\n",
       "    </tr>\n",
       "    <tr>\n",
       "      <th>50%</th>\n",
       "      <td>0.500000</td>\n",
       "      <td>0.500000</td>\n",
       "      <td>0.462861</td>\n",
       "    </tr>\n",
       "    <tr>\n",
       "      <th>75%</th>\n",
       "      <td>0.655556</td>\n",
       "      <td>0.657407</td>\n",
       "      <td>0.526206</td>\n",
       "    </tr>\n",
       "    <tr>\n",
       "      <th>max</th>\n",
       "      <td>0.877778</td>\n",
       "      <td>0.898148</td>\n",
       "      <td>1.000000</td>\n",
       "    </tr>\n",
       "  </tbody>\n",
       "</table>\n",
       "</div>"
      ],
      "text/plain": [
       "             x_pos        y_pos    intensity\n",
       "count  4502.000000  4502.000000  4502.000000\n",
       "mean      0.495365     0.500693     0.465297\n",
       "std       0.193222     0.191691     0.104263\n",
       "min       0.111111     0.129630     0.000000\n",
       "25%       0.333333     0.342593     0.406371\n",
       "50%       0.500000     0.500000     0.462861\n",
       "75%       0.655556     0.657407     0.526206\n",
       "max       0.877778     0.898148     1.000000"
      ]
     },
     "execution_count": 149,
     "metadata": {},
     "output_type": "execute_result"
    }
   ],
   "source": [
    "df.describe()"
   ]
  },
  {
   "cell_type": "code",
   "execution_count": 150,
   "metadata": {},
   "outputs": [],
   "source": [
    "class fMRI_INRModel(torch.nn.Module):\n",
    "    # nn constructor\n",
    "    def __init__(self, input_size, hidden_size = 256, output_size = 1, num_hidden = 4):\n",
    "        super(fMRI_INRModel, self).__init__()\n",
    "        # input - 2 - x,y\n",
    "        # hidden_size - 256 - num of hidden neurons\n",
    "        # output - 1 - intensity\n",
    "        # num_hidden - 4 - num of hidden layers\n",
    "\n",
    "        # creates first fully-connected layer\n",
    "        self.input = torch.nn.Linear(input_size, hidden_size)\n",
    "\n",
    "        # builds hidden network layers\n",
    "        layers = []\n",
    "        for _ in range(num_hidden):\n",
    "            layers.append(nn.Linear(hidden_size, hidden_size))\n",
    "            layers.append(nn.ReLU())\n",
    "        self.hidden = nn.Sequential(*layers)\n",
    "        self.output = torch.nn.Linear(hidden_size, output_size)   \n",
    "        # self.sig = torch.nn.Sigmoid()\n",
    "\n",
    "\n",
    "    def forward(self, x):\n",
    "        x = self.input(x)\n",
    "        x = self.hidden(x)\n",
    "        x = self.output(x)\n",
    "        # x = self.sig(x)\n",
    "\n",
    "        return x"
   ]
  },
  {
   "cell_type": "code",
   "execution_count": 151,
   "metadata": {},
   "outputs": [],
   "source": [
    "#Pass in a frequency array and and xy grid, return cos/sin of 2x/f and 2y/f for f in freq\n",
    "def fourier_encode(xy: torch.Tensor, freq: torch.Tensor) -> torch.Tensor:\n",
    "    xy = xy.unsqueeze(1)\n",
    "    freq1 = freq[0:len(freq)//2 ]\n",
    "    freq2 = freq[len(freq)//2:]\n",
    "    \n",
    "    \n",
    "    freq1 = torch.tensor(freq1, dtype = torch.float32).view(1, -1, 1)\n",
    "    freq2 = torch.tensor(freq2, dtype = torch.float32).view(1, -1, 1)\n",
    "\n",
    "    scaled1 = 2 * torch.pi * (1/freq1) * xy  \n",
    "    scaled2 = 2 * torch.pi * (1/freq2) * xy  \n",
    "\n",
    "    sin_feat = torch.sin(scaled1)  \n",
    "    cos_feat = torch.cos(scaled2)  \n",
    "\n",
    "\n",
    "    features = torch.cat([sin_feat, cos_feat], dim=-1)  \n",
    "    return features.view(xy.shape[0], -1)  "
   ]
  },
  {
   "cell_type": "code",
   "execution_count": 152,
   "metadata": {},
   "outputs": [],
   "source": [
    "#Dataset to customize type of positional encoding of input\n",
    "class ImageINRDatasetFourier(Dataset):\n",
    "    def __init__(self, dataframe, fourier = False, gaussian = False, num_freq = 1, freq_param = None, freq_file = 'freq.pkl', gauss_scale = 1):\n",
    "        self.dataframe = dataframe\n",
    "\n",
    "        if (fourier or gaussian) == False:\n",
    "            #No positional encoding, just x and y\n",
    "            self.x = torch.tensor(dataframe[['x_pos', 'y_pos']].values, dtype=torch.float32)\n",
    "        else:\n",
    "            if fourier == True:\n",
    "                #fourier encoding with just cos/sin 2x and 2y\n",
    "                freq = [1, 1]\n",
    "            elif gaussian == True:\n",
    "                #normal random sample num_freq frequencies for cos and sin to include in positional encoding\n",
    "                freq = np.random.normal(0, 1, size = num_freq*2)*gauss_scale\n",
    "\n",
    "                #Need to save these frequencies because they must also be used for pos encoding inputs at inference time\n",
    "                pickle.dump(freq, open(freq_file, \"wb\"))\n",
    "            else:\n",
    "                #if you want to pass in custom frequencies\n",
    "                freq = freq_param\n",
    "\n",
    "            x = dataframe['x_pos']\n",
    "            y = dataframe['y_pos']\n",
    "            xy = torch.tensor(np.stack([x, y], axis=-1), dtype = torch.float32)\n",
    "            self.x = fourier_encode(xy, freq)\n",
    "\n",
    "        self.y = torch.tensor(dataframe[['intensity']].values, dtype=torch.float32)\n",
    "\n",
    "    def __len__(self):\n",
    "        return len(self.dataframe)\n",
    "\n",
    "    def __getitem__(self, idx):\n",
    "        return self.x[idx], self.y[idx]"
   ]
  },
  {
   "cell_type": "code",
   "execution_count": 153,
   "metadata": {},
   "outputs": [],
   "source": [
    "# creates a seed used to randomize training pixel grid\n",
    "def seed_everything(seed):\n",
    "    random.seed(seed)\n",
    "    os.environ['PYTHONHASHSEED'] = str(seed)\n",
    "    np.random.seed(seed)\n",
    "    torch.manual_seed(seed)\n",
    "    torch.cuda.manual_seed(seed)\n",
    "    torch.cuda.manual_seed_all(seed) \n",
    "    \n",
    "    # if you are using multi-GPU, these lines ensure deterministic results\n",
    "    torch.backends.cudnn.deterministic = True\n",
    "    torch.backends.cudnn.benchmark = False\n",
    "    \n",
    "    print(f\"SEED SET TO: {seed}\")"
   ]
  },
  {
   "cell_type": "code",
   "execution_count": 164,
   "metadata": {},
   "outputs": [],
   "source": [
    "#Function to train with different encoding types, set model_type to use different encodings\n",
    "#STAF is a new INR that uses trainable parameter sinusoidal activation functions, just wanted to experiment with it: https://arxiv.org/abs/2502.00869\n",
    "from tqdm import tqdm\n",
    "import pickle\n",
    "def train( num_freq, model_type, model_file = 'checkpoint.pth', loss_file = 'losses', freq_file = 'freq.pkl', gauss_scale = 1, visualize_split_flag=True):\n",
    "    epoch_losses = []\n",
    "    min_loss = 100\n",
    "    \n",
    "    if model_type == 'fourier':\n",
    "        data = ImageINRDatasetFourier(df, fourier = True, num_freq = 1)\n",
    "        model = fMRI_INRModel(input_size = 4).to(device)\n",
    "    elif model_type == 'standard':\n",
    "        data = ImageINRDatasetFourier(df)\n",
    "        model = fMRI_INRModel(input_size = 2).to(device)\n",
    "    elif model_type == 'gaussian':\n",
    "        data = ImageINRDatasetFourier(df, gaussian = True, num_freq = num_freq, freq_file = freq_file, gauss_scale = gauss_scale)\n",
    "        model = fMRI_INRModel(input_size = 4*num_freq).to(device)\n",
    "    elif model_type == 'STAF':\n",
    "        data = ImageINRDatasetFourier(df)\n",
    "        model = INR(2, 256, 4, 1).to(device)\n",
    "    else:\n",
    "        print('invalid model_type')\n",
    "        return\n",
    "\n",
    "      #--- DEV SET SPLIT ---#\n",
    "\n",
    "    # gets ds size (expected 9919)\n",
    "    ds_size = len(data)\n",
    "    # indexes length of ds\n",
    "    indices = list(range(ds_size))\n",
    "\n",
    "    # randomizes indices\n",
    "    np.random.shuffle(indices)\n",
    "    \n",
    "    # calculates size of training set (80% of full set)\n",
    "    train_split = int(np.floor(0.8 * ds_size))\n",
    "    \n",
    "    # calculates size of validation set (10% of full set)\n",
    "    val_split = int(np.floor(0.9 * ds_size))\n",
    "\n",
    "    # 0 - train_split .. (80%)\n",
    "    train_indices = indices[:train_split]\n",
    "    # train_split - val_split .. (10%)\n",
    "    val_indices = indices[train_split:val_split]\n",
    "    # val_split - END .. (10%)\n",
    "    test_indices = indices[val_split:]\n",
    "\n",
    "    def visualize_split(full_df, train_indices):\n",
    "        # pixel grid of the training dataset\n",
    "        train_df = full_df.iloc[train_indices]\n",
    "\n",
    "        # init figure\n",
    "        plt.figure(figsize=(12, 6))\n",
    "        \n",
    "        # plots ALL pixels \n",
    "        plt.subplot(1, 2, 1)\n",
    "        plt.scatter(full_df['x_pos'], full_df['y_pos'], s=1, alpha=0.5)\n",
    "        plt.title(f'All Brain Pixels ({len(full_df)} points out of {len(full_df)})')\n",
    "        plt.xlabel('X Coordinate')\n",
    "        plt.ylabel('Y Coordinate')\n",
    "        plt.gca().invert_yaxis()\n",
    "        plt.axis('equal')\n",
    "    \n",
    "        # plots ONLY TRAINING pixels\n",
    "        plt.subplot(1, 2, 2)\n",
    "        plt.scatter(train_df['x_pos'], train_df['y_pos'], s=1, alpha=0.5, color='orange')\n",
    "        plt.title(f'Training Set Pixels ({len(train_df)} points out of {len(full_df)})')\n",
    "        plt.xlabel('X Coordinate')\n",
    "        plt.ylabel('Y Coordinate')\n",
    "        plt.gca().invert_yaxis()\n",
    "        plt.axis('equal')\n",
    "\n",
    "        # displays figure\n",
    "        plt.tight_layout(rect=[0, 0.03, 1, 0.95])\n",
    "        plt.show()\n",
    "    \n",
    "    # shows comparison when set to True\n",
    "    if visualize_split_flag:\n",
    "        visualize_split(data.dataframe, train_indices)\n",
    "\n",
    "    # creates subsets\n",
    "    train_dataset = Subset(data, train_indices)\n",
    "    val_dataset = Subset(data, val_indices)\n",
    "    test_dataset = Subset(data, test_indices) # TEST - *not used in training\n",
    "\n",
    "    print(f\"DS SPLIT: {len(train_dataset)} TRAIN, {len(val_dataset)} VAL, {len(test_dataset)} TEST\")\n",
    "\n",
    "    \n",
    "    #--- TRAINING ---#\n",
    "\n",
    "    train_dataloader = DataLoader(train_dataset, batch_size=8192, shuffle=True,)\n",
    "    valid_dataloader = DataLoader(val_dataset, batch_size=8192, shuffle=False,)\n",
    "\n",
    "    criterion = torch.nn.MSELoss()\n",
    "    optimizer = torch.optim.Adam(model.parameters(), lr=1e-3)\n",
    "    \n",
    "    patience = 50  \n",
    "    epochs_no_improve = 0\n",
    "    best_val_loss = float('inf')\n",
    "    print(f'PATIENCE: {patience}')\n",
    "    \n",
    "    train_losses = []\n",
    "    valid_losses = []\n",
    "\n",
    "    num_epochs = 600\n",
    "\n",
    "    for epoch in tqdm(range(num_epochs)):\n",
    "        model.train()  \n",
    "        \n",
    "        running_train_loss = 0.0\n",
    "        \n",
    "        for inputs, labels in train_dataloader:\n",
    "            inputs, labels = inputs.to(device), labels.to(device)\n",
    "            \n",
    "            optimizer.zero_grad()\n",
    "            outputs = model(inputs)\n",
    "            loss = criterion(outputs, labels)\n",
    "            \n",
    "            loss.backward()\n",
    "            optimizer.step()\n",
    "            \n",
    "            running_train_loss += loss.item() * inputs.size(0)\n",
    "\n",
    "        epoch_train_loss = running_train_loss / len(train_dataloader.dataset)\n",
    "        train_losses.append(epoch_train_loss)\n",
    "\n",
    "                 \n",
    "        #--- VALIDATION ---#\n",
    "        \n",
    "        model.eval()  # Set model to evaluation mode\n",
    "        running_val_loss = 0.0\n",
    "        with torch.no_grad():\n",
    "            for inputs, labels in valid_dataloader:\n",
    "                inputs, labels = inputs.to(device), labels.to(device)\n",
    "                outputs = model(inputs)\n",
    "                loss = criterion(outputs, labels)\n",
    "                running_val_loss += loss.item() * inputs.size(0)\n",
    "\n",
    "        epoch_val_loss = running_val_loss / len(valid_dataloader.dataset)\n",
    "        valid_losses.append(epoch_val_loss)\n",
    "\n",
    "        if (epoch + 1) % 30 == 0:\n",
    "            print(f\"Epoch {epoch+1}/{num_epochs}, Train Loss: {epoch_train_loss:.6f}, Val Loss: {epoch_val_loss:.6f}\")\n",
    "\n",
    "        if epoch_val_loss < best_val_loss:\n",
    "            best_val_loss = epoch_val_loss\n",
    "            epochs_no_improve = 0\n",
    "            checkpoint = {\n",
    "                'epoch': epoch,\n",
    "                'model_state_dict': model.state_dict(),\n",
    "                'optimizer_state_dict': optimizer.state_dict(),\n",
    "                'loss': best_val_loss,\n",
    "            }\n",
    "\n",
    "        else:\n",
    "            epochs_no_improve += 1\n",
    "\n",
    "        if epochs_no_improve == patience:\n",
    "            print(f\"Early stopping triggered after {patience} epochs with no improvement.\")\n",
    "            print(f\"Best validation loss: {best_val_loss:.6f}\")\n",
    "            break\n",
    "\n",
    "        torch.save(checkpoint, model_file)\n",
    "\n",
    "    print(f\"\\nSaving loss histories to '{loss_file}'...\")\n",
    "    loss_data = {\n",
    "        'train_losses': train_losses,\n",
    "        'valid_losses': valid_losses\n",
    "    }\n",
    "    with open(loss_file, 'wb') as f:\n",
    "        pickle.dump(loss_data, f)\n",
    "    print(\"Save complete.\")\n",
    "        \n",
    "    return train_losses, valid_losses\n",
    "\n"
   ]
  },
  {
   "cell_type": "code",
   "execution_count": 165,
   "metadata": {},
   "outputs": [
    {
     "data": {
      "image/png": "[encoded data removed]",
      "text/plain": [
       "<Figure size 1200x600 with 2 Axes>"
      ]
     },
     "metadata": {},
     "output_type": "display_data"
    },
    {
     "name": "stdout",
     "output_type": "stream",
     "text": [
      "DS SPLIT: 3601 TRAIN, 450 VAL, 451 TEST\n",
      "PATIENCE: 50\n"
     ]
    },
    {
     "name": "stderr",
     "output_type": "stream",
     "text": [
      "  5%|▌         | 30/600 [00:05<01:44,  5.44it/s]"
     ]
    },
    {
     "name": "stdout",
     "output_type": "stream",
     "text": [
      "Epoch 30/600, Train Loss: 0.005446, Val Loss: 0.006093\n"
     ]
    },
    {
     "name": "stderr",
     "output_type": "stream",
     "text": [
      " 10%|█         | 60/600 [00:10<01:31,  5.88it/s]"
     ]
    },
    {
     "name": "stdout",
     "output_type": "stream",
     "text": [
      "Epoch 60/600, Train Loss: 0.004982, Val Loss: 0.004868\n"
     ]
    },
    {
     "name": "stderr",
     "output_type": "stream",
     "text": [
      " 15%|█▌        | 90/600 [00:16<01:33,  5.47it/s]"
     ]
    },
    {
     "name": "stdout",
     "output_type": "stream",
     "text": [
      "Epoch 90/600, Train Loss: 0.004714, Val Loss: 0.004725\n"
     ]
    },
    {
     "name": "stderr",
     "output_type": "stream",
     "text": [
      " 20%|██        | 120/600 [00:21<01:27,  5.48it/s]"
     ]
    },
    {
     "name": "stdout",
     "output_type": "stream",
     "text": [
      "Epoch 120/600, Train Loss: 0.004514, Val Loss: 0.004669\n"
     ]
    },
    {
     "name": "stderr",
     "output_type": "stream",
     "text": [
      " 25%|██▌       | 150/600 [00:27<01:30,  5.00it/s]"
     ]
    },
    {
     "name": "stdout",
     "output_type": "stream",
     "text": [
      "Epoch 150/600, Train Loss: 0.004312, Val Loss: 0.004630\n"
     ]
    },
    {
     "name": "stderr",
     "output_type": "stream",
     "text": [
      " 30%|███       | 180/600 [00:32<01:16,  5.51it/s]"
     ]
    },
    {
     "name": "stdout",
     "output_type": "stream",
     "text": [
      "Epoch 180/600, Train Loss: 0.004033, Val Loss: 0.004486\n"
     ]
    },
    {
     "name": "stderr",
     "output_type": "stream",
     "text": [
      " 35%|███▌      | 210/600 [00:38<01:11,  5.45it/s]"
     ]
    },
    {
     "name": "stdout",
     "output_type": "stream",
     "text": [
      "Epoch 210/600, Train Loss: 0.003902, Val Loss: 0.004924\n"
     ]
    },
    {
     "name": "stderr",
     "output_type": "stream",
     "text": [
      " 40%|████      | 240/600 [00:44<01:01,  5.82it/s]"
     ]
    },
    {
     "name": "stdout",
     "output_type": "stream",
     "text": [
      "Epoch 240/600, Train Loss: 0.003230, Val Loss: 0.003822\n"
     ]
    },
    {
     "name": "stderr",
     "output_type": "stream",
     "text": [
      " 45%|████▌     | 270/600 [00:49<01:14,  4.46it/s]"
     ]
    },
    {
     "name": "stdout",
     "output_type": "stream",
     "text": [
      "Epoch 270/600, Train Loss: 0.003387, Val Loss: 0.003740\n"
     ]
    },
    {
     "name": "stderr",
     "output_type": "stream",
     "text": [
      " 50%|█████     | 300/600 [00:54<00:51,  5.81it/s]"
     ]
    },
    {
     "name": "stdout",
     "output_type": "stream",
     "text": [
      "Epoch 300/600, Train Loss: 0.002693, Val Loss: 0.003367\n"
     ]
    },
    {
     "name": "stderr",
     "output_type": "stream",
     "text": [
      " 55%|█████▌    | 330/600 [01:00<00:47,  5.68it/s]"
     ]
    },
    {
     "name": "stdout",
     "output_type": "stream",
     "text": [
      "Epoch 330/600, Train Loss: 0.002997, Val Loss: 0.003788\n"
     ]
    },
    {
     "name": "stderr",
     "output_type": "stream",
     "text": [
      " 60%|██████    | 360/600 [01:05<00:41,  5.72it/s]"
     ]
    },
    {
     "name": "stdout",
     "output_type": "stream",
     "text": [
      "Epoch 360/600, Train Loss: 0.002589, Val Loss: 0.003334\n"
     ]
    },
    {
     "name": "stderr",
     "output_type": "stream",
     "text": [
      " 65%|██████▌   | 390/600 [01:11<00:38,  5.45it/s]"
     ]
    },
    {
     "name": "stdout",
     "output_type": "stream",
     "text": [
      "Epoch 390/600, Train Loss: 0.002328, Val Loss: 0.003174\n"
     ]
    },
    {
     "name": "stderr",
     "output_type": "stream",
     "text": [
      " 70%|███████   | 420/600 [01:16<00:32,  5.57it/s]"
     ]
    },
    {
     "name": "stdout",
     "output_type": "stream",
     "text": [
      "Epoch 420/600, Train Loss: 0.002303, Val Loss: 0.003156\n"
     ]
    },
    {
     "name": "stderr",
     "output_type": "stream",
     "text": [
      " 75%|███████▍  | 449/600 [01:22<00:27,  5.49it/s]"
     ]
    },
    {
     "name": "stdout",
     "output_type": "stream",
     "text": [
      "Epoch 450/600, Train Loss: 0.002359, Val Loss: 0.003124\n"
     ]
    },
    {
     "name": "stderr",
     "output_type": "stream",
     "text": [
      " 80%|████████  | 480/600 [01:28<00:22,  5.34it/s]"
     ]
    },
    {
     "name": "stdout",
     "output_type": "stream",
     "text": [
      "Epoch 480/600, Train Loss: 0.002034, Val Loss: 0.003029\n"
     ]
    },
    {
     "name": "stderr",
     "output_type": "stream",
     "text": [
      " 85%|████████▌ | 510/600 [01:33<00:15,  5.94it/s]"
     ]
    },
    {
     "name": "stdout",
     "output_type": "stream",
     "text": [
      "Epoch 510/600, Train Loss: 0.001912, Val Loss: 0.003014\n"
     ]
    },
    {
     "name": "stderr",
     "output_type": "stream",
     "text": [
      " 90%|█████████ | 540/600 [01:39<00:10,  5.92it/s]"
     ]
    },
    {
     "name": "stdout",
     "output_type": "stream",
     "text": [
      "Epoch 540/600, Train Loss: 0.001848, Val Loss: 0.003095\n"
     ]
    },
    {
     "name": "stderr",
     "output_type": "stream",
     "text": [
      " 95%|█████████▌| 570/600 [01:44<00:04,  6.05it/s]"
     ]
    },
    {
     "name": "stdout",
     "output_type": "stream",
     "text": [
      "Epoch 570/600, Train Loss: 0.001773, Val Loss: 0.003082\n"
     ]
    },
    {
     "name": "stderr",
     "output_type": "stream",
     "text": [
      "100%|██████████| 600/600 [01:50<00:00,  5.44it/s]"
     ]
    },
    {
     "name": "stdout",
     "output_type": "stream",
     "text": [
      "Epoch 600/600, Train Loss: 0.002495, Val Loss: 0.004397\n",
      "\n",
      "Saving loss histories to 'NZ_loss'...\n",
      "Save complete.\n"
     ]
    },
    {
     "name": "stderr",
     "output_type": "stream",
     "text": [
      "\n"
     ]
    }
   ],
   "source": [
    "train_losses, valid_losses = train(\n",
    "    num_freq = 256, \n",
    "    model_type = 'gaussian', \n",
    "    model_file ='NZ_run.pth', \n",
    "    loss_file = 'NZ_loss', \n",
    "    freq_file = 'NZ.pkl', \n",
    "    gauss_scale = 10\n",
    ")"
   ]
  },
  {
   "cell_type": "code",
   "execution_count": 166,
   "metadata": {},
   "outputs": [
    {
     "name": "stdout",
     "output_type": "stream",
     "text": [
      "Reconstructing for dimensions: 109x91\n",
      "Shape of encoded coordinate grid: torch.Size([9919, 1024])\n",
      "\n",
      "--- Reconstructed Image (Masked) ---\n"
     ]
    },
    {
     "data": {
      "image/png": "[encoded data removed]",
      "text/plain": [
       "<Figure size 640x480 with 1 Axes>"
      ]
     },
     "metadata": {},
     "output_type": "display_data"
    },
    {
     "name": "stdout",
     "output_type": "stream",
     "text": [
      "\n",
      "--- Ground Truth ---\n"
     ]
    },
    {
     "data": {
      "image/png": "[encoded data removed]",
      "text/plain": [
       "<Figure size 640x480 with 1 Axes>"
      ]
     },
     "metadata": {},
     "output_type": "display_data"
    },
    {
     "name": "stdout",
     "output_type": "stream",
     "text": [
      "\n",
      "--- Difference Image ---\n"
     ]
    },
    {
     "data": {
      "image/png": "[encoded data removed]",
      "text/plain": [
       "<Figure size 640x480 with 2 Axes>"
      ]
     },
     "metadata": {},
     "output_type": "display_data"
    }
   ],
   "source": [
    "# Re-define the model architecture for inference\n",
    "num_freq = 256\n",
    "model = fMRI_INRModel(input_size = 4*num_freq) \n",
    "\n",
    "# Define path to the saved model checkpoint \n",
    "path = './NZ_run.pth' \n",
    "checkpoint = torch.load(path)\n",
    "model.load_state_dict(checkpoint[\"model_state_dict\"])\n",
    "model.eval()\n",
    "\n",
    "# Get the original image dimensions (after transpose)\n",
    "H, W = norm_slice.T.shape\n",
    "print(f\"Reconstructing for dimensions: {H}x{W}\")\n",
    "\n",
    "# Create a coordinate grid for the entire image space\n",
    "x = np.linspace(0, 1, W)\n",
    "y = np.linspace(0, 1, H)\n",
    "xx, yy = np.meshgrid(x, y)\n",
    "\n",
    "# This ensures the coordinate grid is created in the correct row-major order\n",
    "X = torch.tensor(np.stack([xx, yy], axis=-1).reshape(-1, 2), dtype = torch.float32)\n",
    "\n",
    "# Load the frequencies used during training for positional encoding\n",
    "with open('./NZ.pkl', 'rb') as file:\n",
    "    freq = pickle.load(file)\n",
    "\n",
    "# Apply the same fourier encoding to the full coordinate grid\n",
    "X_encoded = fourier_encode(X, freq = freq)\n",
    "print(f\"Shape of encoded coordinate grid: {X_encoded.shape}\")\n",
    "\n",
    "# Perform inference\n",
    "with torch.no_grad():\n",
    "    Y = model(X_encoded) \n",
    "\n",
    "# Reshape the output back into an image and un-normalize it.\n",
    "min_int = norm_slice[norm_slice != 0].min()\n",
    "max_int = norm_slice.max()\n",
    "image_normalized_output = Y.reshape(H, W, 1)\n",
    "image_unnormalized = (image_normalized_output * (max_int - min_int)) + min_int\n",
    "\n",
    "### FIX: Apply Brain Mask to Remove Background Artifacts ###\n",
    "# 1. Create a boolean mask from the original transposed slice (True for brain, False for background)\n",
    "brain_mask_np = (norm_slice.T != 0) \n",
    "# 2. Convert the numpy mask to a PyTorch tensor, add a channel dimension, and convert to float for multiplication\n",
    "brain_mask_tensor = torch.from_numpy(brain_mask_np).unsqueeze(-1).float()\n",
    "# 3. Multiply the reconstructed image by the mask. This sets all background pixels to zero.\n",
    "reconstructed_masked = image_unnormalized * brain_mask_tensor\n",
    "### END FIX ###\n",
    "\n",
    "# Create the ground truth image from the original DataFrame for comparison\n",
    "gt_array = np.zeros((H, W))\n",
    "y_indices = (df['y_pos'] * (H - 1)).round().astype(int).values\n",
    "x_indices = (df['x_pos'] * (W - 1)).round().astype(int).values\n",
    "gt_unnormalized_intensities = (df['intensity'].values * (max_int - min_int)) + min_int\n",
    "gt_array[y_indices, x_indices] = gt_unnormalized_intensities\n",
    "gt_tensor_unnormalized = torch.from_numpy(gt_array).unsqueeze(-1)\n",
    "\n",
    "# Calculate the difference image using the masked reconstruction\n",
    "diff_image = torch.abs(gt_tensor_unnormalized - reconstructed_masked).squeeze()\n",
    "\n",
    "print('\\n--- Reconstructed Image (Masked) ---')\n",
    "plt.imshow(reconstructed_masked.squeeze())\n",
    "plt.title('Reconstructed Image')\n",
    "plt.axis('off')\n",
    "plt.show()\n",
    "\n",
    "print('\\n--- Ground Truth ---')\n",
    "plt.imshow(gt_tensor_unnormalized.squeeze())\n",
    "plt.title('Ground Truth')\n",
    "plt.axis('off')\n",
    "plt.show()\n",
    "\n",
    "print('\\n--- Difference Image ---')\n",
    "plt.imshow(diff_image)\n",
    "plt.title('Difference (Reconstructed vs. GT)')\n",
    "plt.colorbar()\n",
    "plt.axis('off')\n",
    "plt.show()\n"
   ]
  },
  {
   "cell_type": "code",
   "execution_count": 167,
   "metadata": {},
   "outputs": [
    {
     "data": {
      "image/png": "[encoded data removed]",
      "text/plain": [
       "<Figure size 1000x600 with 1 Axes>"
      ]
     },
     "metadata": {},
     "output_type": "display_data"
    }
   ],
   "source": [
    "import matplotlib.pyplot as plt\n",
    "\n",
    "# assembles figure\n",
    "plt.figure(figsize=(10, 6))\n",
    "\n",
    "# training loss plot\n",
    "plt.plot(train_losses, label='Training Loss', color='blue')\n",
    "\n",
    "# validation loss plot\n",
    "plt.plot(valid_losses, label='Validation Loss', color='orange')\n",
    "\n",
    "# adds titles\n",
    "plt.title('Training vs. Validation Loss')\n",
    "plt.xlabel('Epochs')\n",
    "plt.ylabel('Loss (MSE)')\n",
    "plt.legend()\n",
    "plt.grid(True)\n",
    "\n",
    "plt.show()\n"
   ]
  },
  {
   "cell_type": "code",
   "execution_count": null,
   "metadata": {},
   "outputs": [],
   "source": []
  }
 ],
 "metadata": {
  "accelerator": "GPU",
  "colab": {
   "gpuType": "T4",
   "provenance": []
  },
  "kernelspec": {
   "display_name": "Python (Initial Slices)",
   "language": "python",
   "name": "init_slices"
  },
  "language_info": {
   "codemirror_mode": {
    "name": "ipython",
    "version": 3
   },
   "file_extension": ".py",
   "mimetype": "text/x-python",
   "name": "python",
   "nbconvert_exporter": "python",
   "pygments_lexer": "ipython3",
   "version": "3.13.5"
  }
 },
 "nbformat": 4,
 "nbformat_minor": 4
}
