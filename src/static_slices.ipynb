{
 "cells": [
  {
   "cell_type": "code",
   "execution_count": 165,
   "metadata": {
    "id": "Fafr_BB10P_D",
    "tags": []
   },
   "outputs": [],
   "source": [
    "import os\n",
    "import pandas as pd\n",
    "from PIL import Image\n",
    "import numpy as np\n",
    "import torch\n",
    "from torch.utils.data import DataLoader, Dataset\n",
    "import torchvision.transforms as transforms\n",
    "import torch.nn.functional as F\n",
    "from torch import nn\n",
    "import matplotlib.pyplot as plt\n",
    "from tqdm import tqdm\n",
    "from PIL import Image\n",
    "import os\n",
    "from einops import rearrange, repeat\n",
    "import einops\n",
    "from glob import glob\n",
    "from math import log\n",
    "import math\n",
    "from tqdm import tqdm\n",
    "import pickle\n",
    "import matplotlib.pyplot as plt\n",
    "import nibabel as nib\n",
    "import nilearn as nil"
   ]
  },
  {
   "cell_type": "code",
   "execution_count": 166,
   "metadata": {},
   "outputs": [
    {
     "name": "stdout",
     "output_type": "stream",
     "text": [
      "The image resolution is: 109x91\n"
     ]
    },
    {
     "data": {
      "image/jpeg": "[encoded data removed]",
      "image/png": "[encoded data removed]",
      "text/plain": [
       "<PIL.Image.Image image mode=L size=109x91>"
      ]
     },
     "metadata": {},
     "output_type": "display_data"
    }
   ],
   "source": [
    "###--Load image with PIL and display--###\n",
    "image_path = \"./ground_truth.jpg\"\n",
    "image = Image.open(image_path)\n",
    "W, H = image.size\n",
    "\n",
    "\n",
    "#downsampling if necessary\n",
    "#H = H//10\n",
    "#W = W//10\n",
    "\n",
    "image = image.resize((W, H))\n",
    "\n",
    "# Print the dimensions\n",
    "print(f\"The image resolution is: {W}x{H}\")\n",
    "image.show()"
   ]
  },
  {
   "cell_type": "code",
   "execution_count": 233,
   "metadata": {},
   "outputs": [],
   "source": [
    "#Pass in a frequency array and and xy grid, return cos/sin of 2x/f and 2y/f for f in freq\n",
    "def fourier_encode(xy: torch.Tensor, freq: torch.Tensor) -> torch.Tensor:\n",
    "    xy = xy.unsqueeze(1)\n",
    "    freq1 = freq[0:len(freq)//2 ]\n",
    "    freq2 = freq[len(freq)//2:]\n",
    "    \n",
    "    \n",
    "    freq1 = torch.tensor(freq1, dtype = torch.float32).view(1, -1, 1)\n",
    "    freq2 = torch.tensor(freq2, dtype = torch.float32).view(1, -1, 1)\n",
    "\n",
    "    scaled1 = 2 * torch.pi * (1/freq1) * xy  \n",
    "    scaled2 = 2 * torch.pi * (1/freq2) * xy  \n",
    "\n",
    "    sin_feat = torch.sin(scaled1)  \n",
    "    cos_feat = torch.cos(scaled2)  \n",
    "\n",
    "\n",
    "    features = torch.cat([sin_feat, cos_feat], dim=-1)  \n",
    "    return features.view(xy.shape[0], -1)  "
   ]
  },
  {
   "cell_type": "code",
   "execution_count": 167,
   "metadata": {},
   "outputs": [],
   "source": [
    "device = torch.device('cuda' if torch.cuda.is_available() else 'cpu')"
   ]
  },
  {
   "cell_type": "code",
   "execution_count": 253,
   "metadata": {},
   "outputs": [
    {
     "name": "stdout",
     "output_type": "stream",
     "text": [
      "YES! File found at: /home/idies/workspace/Temporary/ecardillo/scratch/jubin-ds.nii\n"
     ]
    },
    {
     "data": {
      "text/plain": [
       "(91, 109, 91, 1200)"
      ]
     },
     "execution_count": 253,
     "metadata": {},
     "output_type": "execute_result"
    }
   ],
   "source": [
    "###- DS LOCATION CONFIRMATION -###\n",
    "\n",
    "jubin_ds = \"/home/idies/workspace/Temporary/ecardillo/scratch/jubin-ds.nii\"\n",
    "\n",
    "# verify the file exists\n",
    "if os.path.exists(jubin_ds):\n",
    "    print(f\"YES! File found at: {jubin_ds}\")\n",
    "else:\n",
    "    print(f\"Error: File not found at: {jubin_ds}\")\n",
    "    \n",
    "# loads ds\n",
    "fmri = nib.load(jubin_ds)\n",
    "fmri.shape"
   ]
  },
  {
   "cell_type": "code",
   "execution_count": 169,
   "metadata": {},
   "outputs": [
    {
     "name": "stdout",
     "output_type": "stream",
     "text": [
      "================================================================================\n",
      "Shape: (91, 109, 91, 1200)\n",
      "Header information:\n",
      "<class 'nibabel.nifti1.Nifti1Header'> object, endian='<'\n",
      "sizeof_hdr      : 348\n",
      "data_type       : np.bytes_(b'')\n",
      "db_name         : np.bytes_(b'')\n",
      "extents         : 0\n",
      "session_error   : 0\n",
      "regular         : np.bytes_(b'r')\n",
      "dim_info        : 0\n",
      "dim             : [   4   91  109   91 1200    1    1    1]\n",
      "intent_p1       : 0.0\n",
      "intent_p2       : 0.0\n",
      "intent_p3       : 0.0\n",
      "intent_code     : none\n",
      "datatype        : float32\n",
      "bitpix          : 32\n",
      "slice_start     : 0\n",
      "pixdim          : [-1.    2.    2.    2.    0.72  0.    0.    0.  ]\n",
      "vox_offset      : 0.0\n",
      "scl_slope       : nan\n",
      "scl_inter       : nan\n",
      "slice_end       : 0\n",
      "slice_code      : unknown\n",
      "xyzt_units      : 10\n",
      "cal_max         : 0.0\n",
      "cal_min         : 0.0\n",
      "slice_duration  : 0.0\n",
      "toffset         : 0.0\n",
      "glmax           : 0\n",
      "glmin           : 0\n",
      "descrip         : np.bytes_(b'FSL5.0')\n",
      "aux_file        : np.bytes_(b'')\n",
      "qform_code      : mni\n",
      "sform_code      : mni\n",
      "quatern_b       : 0.0\n",
      "quatern_c       : 1.0\n",
      "quatern_d       : 0.0\n",
      "qoffset_x       : 90.0\n",
      "qoffset_y       : -126.0\n",
      "qoffset_z       : -72.0\n",
      "srow_x          : [-2.  0.  0. 90.]\n",
      "srow_y          : [   0.    2.    0. -126.]\n",
      "srow_z          : [  0.   0.   2. -72.]\n",
      "intent_name     : np.bytes_(b'')\n",
      "magic           : np.bytes_(b'n+1')\n",
      "Number of slices: 1200\n",
      "================================================================================\n"
     ]
    }
   ],
   "source": [
    "###- DS METADATA -###\n",
    "\n",
    "print(\"=\" * 80)\n",
    "\n",
    "# ds shape\n",
    "print(f\"Shape: {fmri.get_fdata().shape}\")\n",
    "\n",
    "# characteristics of ds\n",
    "print(f\"Header information:\\n{fmri.header}\") \n",
    "\n",
    "# gets and displays num of slices in ds (typically 1200)\n",
    "num_slices = fmri.shape[-1]\n",
    "print(f\"Number of slices: {num_slices}\")\n",
    "\n",
    "print(\"=\" * 80)"
   ]
  },
  {
   "cell_type": "code",
   "execution_count": 240,
   "metadata": {},
   "outputs": [
    {
     "name": "stdout",
     "output_type": "stream",
     "text": [
      "-4.432227234637662 0.0 5.041499640202962 (91, 109)\n",
      "0 254 (91, 109)\n"
     ]
    },
    {
     "data": {
      "image/png": "[encoded data removed]",
      "text/plain": [
       "<Figure size 640x480 with 1 Axes>"
      ]
     },
     "metadata": {},
     "output_type": "display_data"
    }
   ],
   "source": [
    "# gets volume\n",
    "arr = single_volume.get_fdata()\n",
    "\n",
    "# sets timepoint\n",
    "timepoint = 50\n",
    "\n",
    "# takes 50th slice of volume, 50th timepoint\n",
    "slice = arr[:,:, timepoint]\n",
    "\n",
    "# only takes slices with intensity (everything but bg)\n",
    "nonzero = slice[slice > 0]\n",
    "\n",
    "# takes only black spaces (all bg)\n",
    "back = slice == 0\n",
    "\n",
    "# takes the mean and standard deviation of the brain component\n",
    "m_, std_ = nonzero.mean(), nonzero.std()\n",
    "\n",
    "# normalizes \n",
    "norm_slice = (slice - m_) / std_\n",
    "norm_slice[back] = 0\n",
    "print(norm_slice.min(), norm_slice.mean(), norm_slice.max(), norm_slice.shape)\n",
    "plt.imshow(norm_slice)\n",
    "np.save('ground_truth.npy', norm_slice)\n",
    "min_val = norm_slice.min()\n",
    "max_val = norm_slice.max()\n",
    "\n",
    "# Stretch the values to fill the 0-255 range for the image\n",
    "scaled_slice = 255 * (norm_slice - min_val) / (max_val - min_val)\n",
    "\n",
    "# 2. Convert the scaled data to unsigned 8-bit integers (the standard for images)\n",
    "image_array = scaled_slice.astype(np.uint8)\n",
    "print(image_array.min(), image_array.max(), image_array.shape)\n",
    "\n",
    "# 3. Create an image from the array and save it\n",
    "img = Image.fromarray(image_array)\n",
    "img.save('ground_truth.jpg')"
   ]
  },
  {
   "cell_type": "code",
   "execution_count": 241,
   "metadata": {},
   "outputs": [
    {
     "data": {
      "text/plain": [
       "(array([3.400e+01, 4.800e+01, 8.100e+01, 8.760e+02, 7.270e+03, 1.193e+03,\n",
       "        3.470e+02, 6.000e+01, 6.000e+00, 4.000e+00]),\n",
       " array([-4.43222723, -3.48485455, -2.53748186, -1.59010917, -0.64273648,\n",
       "         0.3046362 ,  1.25200889,  2.19938158,  3.14675427,  4.09412695,\n",
       "         5.04149964]),\n",
       " <BarContainer object of 10 artists>)"
      ]
     },
     "execution_count": 241,
     "metadata": {},
     "output_type": "execute_result"
    },
    {
     "data": {
      "image/png": "[encoded data removed]",
      "text/plain": [
       "<Figure size 640x480 with 1 Axes>"
      ]
     },
     "metadata": {},
     "output_type": "display_data"
    }
   ],
   "source": [
    "plt.hist(norm_slice.flatten())"
   ]
  },
  {
   "cell_type": "code",
   "execution_count": 242,
   "metadata": {},
   "outputs": [
    {
     "name": "stdout",
     "output_type": "stream",
     "text": [
      "Shape of transposed slice: (109, 91)\n"
     ]
    },
    {
     "data": {
      "text/html": [
       "<div>\n",
       "<style scoped>\n",
       "    .dataframe tbody tr th:only-of-type {\n",
       "        vertical-align: middle;\n",
       "    }\n",
       "\n",
       "    .dataframe tbody tr th {\n",
       "        vertical-align: top;\n",
       "    }\n",
       "\n",
       "    .dataframe thead th {\n",
       "        text-align: right;\n",
       "    }\n",
       "</style>\n",
       "<table border=\"1\" class=\"dataframe\">\n",
       "  <thead>\n",
       "    <tr style=\"text-align: right;\">\n",
       "      <th></th>\n",
       "      <th>x_pos</th>\n",
       "      <th>y_pos</th>\n",
       "      <th>intensity</th>\n",
       "    </tr>\n",
       "  </thead>\n",
       "  <tbody>\n",
       "    <tr>\n",
       "      <th>0</th>\n",
       "      <td>0.000000</td>\n",
       "      <td>0.0</td>\n",
       "      <td>0.0</td>\n",
       "    </tr>\n",
       "    <tr>\n",
       "      <th>1</th>\n",
       "      <td>0.009259</td>\n",
       "      <td>0.0</td>\n",
       "      <td>0.0</td>\n",
       "    </tr>\n",
       "    <tr>\n",
       "      <th>2</th>\n",
       "      <td>0.018519</td>\n",
       "      <td>0.0</td>\n",
       "      <td>0.0</td>\n",
       "    </tr>\n",
       "    <tr>\n",
       "      <th>3</th>\n",
       "      <td>0.027778</td>\n",
       "      <td>0.0</td>\n",
       "      <td>0.0</td>\n",
       "    </tr>\n",
       "    <tr>\n",
       "      <th>4</th>\n",
       "      <td>0.037037</td>\n",
       "      <td>0.0</td>\n",
       "      <td>0.0</td>\n",
       "    </tr>\n",
       "  </tbody>\n",
       "</table>\n",
       "</div>"
      ],
      "text/plain": [
       "      x_pos  y_pos  intensity\n",
       "0  0.000000    0.0        0.0\n",
       "1  0.009259    0.0        0.0\n",
       "2  0.018519    0.0        0.0\n",
       "3  0.027778    0.0        0.0\n",
       "4  0.037037    0.0        0.0"
      ]
     },
     "execution_count": 242,
     "metadata": {},
     "output_type": "execute_result"
    }
   ],
   "source": [
    "###- BUILD DATAFRAME -###\n",
    "\n",
    "bw_array = norm_slice.T  # transpose to (height, width)\n",
    "height, width = bw_array.shape\n",
    "print(f\"Shape of transposed slice: {bw_array.shape}\")\n",
    "\n",
    "# Create coordinate grids\n",
    "x_coords, y_coords = np.meshgrid(np.arange(height), np.arange(width))\n",
    "\n",
    "# Flatten everything and create df\n",
    "x_flat = x_coords.ravel()\n",
    "y_flat = y_coords.ravel()\n",
    "intensity_flat = bw_array.ravel()\n",
    "df = pd.DataFrame({\n",
    "    \"x_pos\": x_flat/(height-1),\n",
    "    \"y_pos\": y_flat/(width-1),\n",
    "    \"intensity\": intensity_flat # /np.max(intensity_flat) dividing by max is required for min-max scaling\n",
    "})\n",
    "\n",
    "df.head()\n"
   ]
  },
  {
   "cell_type": "code",
   "execution_count": 243,
   "metadata": {},
   "outputs": [
    {
     "data": {
      "text/html": [
       "<div>\n",
       "<style scoped>\n",
       "    .dataframe tbody tr th:only-of-type {\n",
       "        vertical-align: middle;\n",
       "    }\n",
       "\n",
       "    .dataframe tbody tr th {\n",
       "        vertical-align: top;\n",
       "    }\n",
       "\n",
       "    .dataframe thead th {\n",
       "        text-align: right;\n",
       "    }\n",
       "</style>\n",
       "<table border=\"1\" class=\"dataframe\">\n",
       "  <thead>\n",
       "    <tr style=\"text-align: right;\">\n",
       "      <th></th>\n",
       "      <th>x_pos</th>\n",
       "      <th>y_pos</th>\n",
       "      <th>intensity</th>\n",
       "    </tr>\n",
       "  </thead>\n",
       "  <tbody>\n",
       "    <tr>\n",
       "      <th>count</th>\n",
       "      <td>9919.00000</td>\n",
       "      <td>9919.000000</td>\n",
       "      <td>9919.000000</td>\n",
       "    </tr>\n",
       "    <tr>\n",
       "      <th>mean</th>\n",
       "      <td>0.50000</td>\n",
       "      <td>0.500000</td>\n",
       "      <td>0.000000</td>\n",
       "    </tr>\n",
       "    <tr>\n",
       "      <th>std</th>\n",
       "      <td>0.29135</td>\n",
       "      <td>0.291880</td>\n",
       "      <td>0.673737</td>\n",
       "    </tr>\n",
       "    <tr>\n",
       "      <th>min</th>\n",
       "      <td>0.00000</td>\n",
       "      <td>0.000000</td>\n",
       "      <td>-4.432227</td>\n",
       "    </tr>\n",
       "    <tr>\n",
       "      <th>25%</th>\n",
       "      <td>0.25000</td>\n",
       "      <td>0.244444</td>\n",
       "      <td>0.000000</td>\n",
       "    </tr>\n",
       "    <tr>\n",
       "      <th>50%</th>\n",
       "      <td>0.50000</td>\n",
       "      <td>0.500000</td>\n",
       "      <td>0.000000</td>\n",
       "    </tr>\n",
       "    <tr>\n",
       "      <th>75%</th>\n",
       "      <td>0.75000</td>\n",
       "      <td>0.755556</td>\n",
       "      <td>0.000000</td>\n",
       "    </tr>\n",
       "    <tr>\n",
       "      <th>max</th>\n",
       "      <td>1.00000</td>\n",
       "      <td>1.000000</td>\n",
       "      <td>5.041500</td>\n",
       "    </tr>\n",
       "  </tbody>\n",
       "</table>\n",
       "</div>"
      ],
      "text/plain": [
       "            x_pos        y_pos    intensity\n",
       "count  9919.00000  9919.000000  9919.000000\n",
       "mean      0.50000     0.500000     0.000000\n",
       "std       0.29135     0.291880     0.673737\n",
       "min       0.00000     0.000000    -4.432227\n",
       "25%       0.25000     0.244444     0.000000\n",
       "50%       0.50000     0.500000     0.000000\n",
       "75%       0.75000     0.755556     0.000000\n",
       "max       1.00000     1.000000     5.041500"
      ]
     },
     "execution_count": 243,
     "metadata": {},
     "output_type": "execute_result"
    }
   ],
   "source": [
    "# This will show you the count, mean, max, etc. for the 'intensity' column\n",
    "df.describe()"
   ]
  },
  {
   "cell_type": "code",
   "execution_count": 244,
   "metadata": {},
   "outputs": [],
   "source": [
    "###- INR IMAGE ARCHITECTURE -###\n",
    "\n",
    "class ImageINRModel(torch.nn.Module):\n",
    "\n",
    "    # nn constructor\n",
    "    def __init__(self, input_size, hidden_size = 256, output_size = 1, num_hidden = 4):\n",
    "        super(ImageINRModel, self).__init__()\n",
    "        # input - 2 - x,y\n",
    "        # hidden_size - 256 - num of hidden neurons\n",
    "        # output - 1 - intensity\n",
    "        # num_hidden - 4 - num of hidden layers\n",
    "\n",
    "        # creates first fully-connected layer\n",
    "        self.input = torch.nn.Linear(input_size, hidden_size)\n",
    "\n",
    "        # builds hidden network layers\n",
    "        layers = []\n",
    "        for _ in range(num_hidden):\n",
    "            layers.append(nn.Linear(hidden_size, hidden_size))\n",
    "            layers.append(nn.ReLU())\n",
    "        self.hidden = nn.Sequential(*layers)\n",
    "        self.output = torch.nn.Linear(hidden_size, output_size)   \n",
    "        self.sig = torch.nn.Sigmoid()\n",
    "\n",
    "\n",
    "    def forward(self, x):\n",
    "        x = self.input(x)\n",
    "        x = self.hidden(x)\n",
    "        x = self.output(x)\n",
    "        x = self.sig(x)\n",
    "\n",
    "        return x\n",
    "\n",
    "\n",
    "class fMRI_INRModel(torch.nn.Module):\n",
    "    # nn constructor\n",
    "    def __init__(self, input_size, hidden_size = 256, output_size = 1, num_hidden = 4):\n",
    "        super(fMRI_INRModel, self).__init__()\n",
    "        # input - 2 - x,y\n",
    "        # hidden_size - 256 - num of hidden neurons\n",
    "        # output - 1 - intensity\n",
    "        # num_hidden - 4 - num of hidden layers\n",
    "\n",
    "        # creates first fully-connected layer\n",
    "        self.input = torch.nn.Linear(input_size, hidden_size)\n",
    "\n",
    "        # builds hidden network layers\n",
    "        layers = []\n",
    "        for _ in range(num_hidden):\n",
    "            layers.append(nn.Linear(hidden_size, hidden_size))\n",
    "            layers.append(nn.ReLU())\n",
    "        self.hidden = nn.Sequential(*layers)\n",
    "        self.output = torch.nn.Linear(hidden_size, output_size)   \n",
    "        # self.sig = torch.nn.Sigmoid()\n",
    "\n",
    "\n",
    "    def forward(self, x):\n",
    "        x = self.input(x)\n",
    "        x = self.hidden(x)\n",
    "        x = self.output(x)\n",
    "        # x = self.sig(x)\n",
    "\n",
    "        return x"
   ]
  },
  {
   "cell_type": "code",
   "execution_count": 245,
   "metadata": {},
   "outputs": [],
   "source": [
    "#Dataset where input is simply [x,y] tensor\n",
    "class ImageINRDataset(Dataset):\n",
    "    def __init__(self, dataframe):\n",
    "        self.dataframe = dataframe\n",
    "        self.x = torch.tensor(dataframe[['x_pos', 'y_pos']].values, dtype=torch.float32)\n",
    "        self.y = torch.tensor(dataframe[['intensity']].values, dtype=torch.float32)\n",
    "\n",
    "    def __len__(self):\n",
    "        return len(self.dataframe)\n",
    "\n",
    "    def __getitem__(self, idx):\n",
    "        return self.x[idx], self.y[idx]"
   ]
  },
  {
   "cell_type": "code",
   "execution_count": 246,
   "metadata": {},
   "outputs": [],
   "source": [
    "#Dataset to customize type of positional encoding of input\n",
    "class ImageINRDatasetFourier(Dataset):\n",
    "    def __init__(self, dataframe, fourier = False, gaussian = False, num_freq = 1, freq_param = None, freq_file = 'freq.pkl', gauss_scale = 1):\n",
    "        self.dataframe = dataframe\n",
    "\n",
    "        if (fourier or gaussian) == False:\n",
    "            #No positional encoding, just x and y\n",
    "            self.x = torch.tensor(dataframe[['x_pos', 'y_pos']].values, dtype=torch.float32)\n",
    "        else:\n",
    "            if fourier == True:\n",
    "                #fourier encoding with just cos/sin 2x and 2y\n",
    "                freq = [1, 1]\n",
    "            elif gaussian == True:\n",
    "                #normal random sample num_freq frequencies for cos and sin to include in positional encoding\n",
    "                freq = np.random.normal(0, 1, size = num_freq*2)*gauss_scale\n",
    "\n",
    "                #Need to save these frequencies because they must also be used for pos encoding inputs at inference time\n",
    "                pickle.dump(freq, open(freq_file, \"wb\"))\n",
    "            else:\n",
    "                #if you want to pass in custom frequencies\n",
    "                freq = freq_param\n",
    "\n",
    "            x = dataframe['x_pos']\n",
    "            y = dataframe['y_pos']\n",
    "            xy = torch.tensor(np.stack([x, y], axis=-1), dtype = torch.float32)\n",
    "            self.x = fourier_encode(xy, freq)\n",
    "\n",
    "        self.y = torch.tensor(dataframe[['intensity']].values, dtype=torch.float32)\n",
    "\n",
    "    def __len__(self):\n",
    "        return len(self.dataframe)\n",
    "\n",
    "    def __getitem__(self, idx):\n",
    "        return self.x[idx], self.y[idx]"
   ]
  },
  {
   "cell_type": "code",
   "execution_count": 247,
   "metadata": {},
   "outputs": [],
   "source": [
    "#Function to train with different encoding types, set model_type to use different encodings\n",
    "#STAF is a new INR that uses trainable parameter sinusoidal activation functions, just wanted to experiment with it: https://arxiv.org/abs/2502.00869\n",
    "from tqdm import tqdm\n",
    "import pickle\n",
    "def train( num_freq, model_type, model_file = 'checkpoint.pth', loss_file = 'losses', freq_file = 'freq.pkl', gauss_scale = 1):\n",
    "    epoch_losses = []\n",
    "    min_loss = 100\n",
    "    \n",
    "    if model_type == 'fourier':\n",
    "        data = ImageINRDatasetFourier(df, fourier = True, num_freq = 1)\n",
    "        model = ImageINRModel(input_size = 4).to(device)\n",
    "    elif model_type == 'standard':\n",
    "        data = ImageINRDataset(df)\n",
    "        # model = ImageINRModel(input_size = 2).to(device)\n",
    "        model = fMRI_INRModel(input_size = 2).to(device)\n",
    "    elif model_type == 'gaussian':\n",
    "        data = ImageINRDatasetFourier(df, gaussian = True, num_freq = num_freq, freq_file = freq_file, gauss_scale = gauss_scale)\n",
    "        model = ImageINRModel(input_size = 4*num_freq).to(device)\n",
    "    elif model_type == 'STAF':\n",
    "        data = ImageINRDataset(df)\n",
    "        model = INR(2, 256, 4, 1).to(device)\n",
    "    else:\n",
    "        print('invalid model_type')\n",
    "        return\n",
    "    \n",
    "    train_dataloader = DataLoader(data, batch_size=8192, shuffle=True)\n",
    "    criterion = torch.nn.MSELoss()\n",
    "    optimizer = torch.optim.Adam(model.parameters(), lr=1e-4)\n",
    "    # optimizer = torch.optim.AdamW(model.parameters(), lr=1e-3)\n",
    "    num_epochs = 2000\n",
    "\n",
    "    for epoch in tqdm(range(num_epochs)):\n",
    "        model.train()\n",
    "\n",
    "        epoch_loss = 0\n",
    "\n",
    "        for i, (inputs, labels) in enumerate(train_dataloader):\n",
    "            inputs, labels = inputs.to(device), labels.to(device)\n",
    "\n",
    "            optimizer.zero_grad()\n",
    "\n",
    "            outputs = model(inputs)\n",
    "            loss = criterion(outputs, labels)\n",
    "\n",
    "\n",
    "            epoch_loss += loss.item()\n",
    "\n",
    "            loss.backward()\n",
    "            optimizer.step()\n",
    "\n",
    "\n",
    "        if epoch % 200 == 0:\n",
    "            print(f\"Epoch {epoch}, Loss: {epoch_loss / len(train_dataloader)}\")\n",
    "            epoch_losses.append(epoch_loss)\n",
    "            pickle.dump(epoch_losses, open(f\"{loss_file}_losses.pkl\", \"wb\"))\n",
    "            if epoch_loss < min_loss:\n",
    "\n",
    "                checkpoint = {\n",
    "                    'epoch': epoch,\n",
    "                    'model_state_dict': model.state_dict(),\n",
    "                    'optimizer_state_dict': optimizer.state_dict(),\n",
    "                    'loss': loss,\n",
    "                    # Add other relevant information as needed\n",
    "                }\n",
    "                \n",
    "\n",
    "                torch.save(checkpoint, model_file)"
   ]
  },
  {
   "cell_type": "code",
   "execution_count": 248,
   "metadata": {},
   "outputs": [
    {
     "name": "stderr",
     "output_type": "stream",
     "text": [
      "  0%|          | 0/2000 [00:00<?, ?it/s]"
     ]
    },
    {
     "name": "stdout",
     "output_type": "stream",
     "text": [
      "Epoch 0, Loss: 0.7219405770301819\n"
     ]
    },
    {
     "name": "stderr",
     "output_type": "stream",
     "text": [
      " 10%|█         | 201/2000 [00:21<03:13,  9.32it/s]"
     ]
    },
    {
     "name": "stdout",
     "output_type": "stream",
     "text": [
      "Epoch 200, Loss: 0.41983816027641296\n"
     ]
    },
    {
     "name": "stderr",
     "output_type": "stream",
     "text": [
      " 20%|██        | 401/2000 [00:41<03:09,  8.42it/s]"
     ]
    },
    {
     "name": "stdout",
     "output_type": "stream",
     "text": [
      "Epoch 400, Loss: 0.36547723412513733\n"
     ]
    },
    {
     "name": "stderr",
     "output_type": "stream",
     "text": [
      " 30%|███       | 601/2000 [01:01<02:42,  8.59it/s]"
     ]
    },
    {
     "name": "stdout",
     "output_type": "stream",
     "text": [
      "Epoch 600, Loss: 0.33384402096271515\n"
     ]
    },
    {
     "name": "stderr",
     "output_type": "stream",
     "text": [
      " 40%|████      | 801/2000 [01:21<02:33,  7.79it/s]"
     ]
    },
    {
     "name": "stdout",
     "output_type": "stream",
     "text": [
      "Epoch 800, Loss: 0.3567848652601242\n"
     ]
    },
    {
     "name": "stderr",
     "output_type": "stream",
     "text": [
      " 50%|█████     | 1001/2000 [01:41<02:09,  7.71it/s]"
     ]
    },
    {
     "name": "stdout",
     "output_type": "stream",
     "text": [
      "Epoch 1000, Loss: 0.3336005061864853\n"
     ]
    },
    {
     "name": "stderr",
     "output_type": "stream",
     "text": [
      " 60%|██████    | 1201/2000 [02:02<02:10,  6.13it/s]"
     ]
    },
    {
     "name": "stdout",
     "output_type": "stream",
     "text": [
      "Epoch 1200, Loss: 0.33313462138175964\n"
     ]
    },
    {
     "name": "stderr",
     "output_type": "stream",
     "text": [
      " 70%|███████   | 1401/2000 [02:22<01:41,  5.90it/s]"
     ]
    },
    {
     "name": "stdout",
     "output_type": "stream",
     "text": [
      "Epoch 1400, Loss: 0.3349979370832443\n"
     ]
    },
    {
     "name": "stderr",
     "output_type": "stream",
     "text": [
      " 80%|████████  | 1601/2000 [02:42<00:43,  9.27it/s]"
     ]
    },
    {
     "name": "stdout",
     "output_type": "stream",
     "text": [
      "Epoch 1600, Loss: 0.3338926285505295\n"
     ]
    },
    {
     "name": "stderr",
     "output_type": "stream",
     "text": [
      " 82%|████████▏ | 1647/2000 [02:47<00:30, 11.76it/s]Exception ignored in: <bound method IPythonKernel._clean_thread_parent_frames of <ipykernel.ipkernel.IPythonKernel object at 0x7fbbca8fe660>>\n",
      "Traceback (most recent call last):\n",
      "  File \"/home/idies/miniconda3/envs/intensity-cross/lib/python3.13/site-packages/ipykernel/ipkernel.py\", line 775, in _clean_thread_parent_frames\n",
      "    def _clean_thread_parent_frames(\n",
      "KeyboardInterrupt: \n",
      " 90%|█████████ | 1801/2000 [03:03<00:21,  9.40it/s]"
     ]
    },
    {
     "name": "stdout",
     "output_type": "stream",
     "text": [
      "Epoch 1800, Loss: 0.3494300842285156\n"
     ]
    },
    {
     "name": "stderr",
     "output_type": "stream",
     "text": [
      "100%|██████████| 2000/2000 [03:23<00:00,  9.83it/s]\n"
     ]
    }
   ],
   "source": [
    "train(num_freq = 256, model_type = 'gaussian', model_file ='gaussian_run.pth', loss_file = 'gaussian_loss', freq_file = 'gau.pkl', gauss_scale = 10)"
   ]
  },
  {
   "cell_type": "code",
   "execution_count": 252,
   "metadata": {},
   "outputs": [
    {
     "name": "stdout",
     "output_type": "stream",
     "text": [
      "109 91\n",
      "torch.Size([9919, 1]) 109 91\n",
      "min max of image tensor(-191.4858) tensor(14.3731) <class 'torch.Tensor'>\n",
      "real diff from df tensor(97.1653)\n",
      "The image resolution is: 109x91\n",
      "reconstructed\n"
     ]
    },
    {
     "data": {
      "image/png": "[encoded data removed]",
      "text/plain": [
       "<Figure size 640x480 with 1 Axes>"
      ]
     },
     "metadata": {},
     "output_type": "display_data"
    },
    {
     "name": "stdout",
     "output_type": "stream",
     "text": [
      "gt\n"
     ]
    },
    {
     "data": {
      "image/png": "[encoded data removed]",
      "text/plain": [
       "<Figure size 640x480 with 1 Axes>"
      ]
     },
     "metadata": {},
     "output_type": "display_data"
    },
    {
     "name": "stdout",
     "output_type": "stream",
     "text": [
      "dif\n"
     ]
    },
    {
     "data": {
      "image/png": "[encoded data removed]",
      "text/plain": [
       "<Figure size 640x480 with 1 Axes>"
      ]
     },
     "metadata": {},
     "output_type": "display_data"
    }
   ],
   "source": [
    "# model = fMRI_INRModel(input_size = 2)\n",
    "\n",
    "# Use this for fourier\n",
    "#model = ImageINRModel(input_size = 4) \n",
    "\n",
    "# use this for gaussian or passing in custom frequencies, change this to correct number of frequencies from training\n",
    "num_freq = 256\n",
    "model = fMRI_INRModel(input_size = 4*num_freq) \n",
    "\n",
    "#model = INR(2, 256, 4, 3) #Use this as model if evaluating STAF model\n",
    "\n",
    "#define path to model checkpoint \n",
    "path = './gaussian_run.pth' \n",
    "checkpoint = torch.load(path)\n",
    "model.load_state_dict(checkpoint[\"model_state_dict\"])\n",
    "model.eval()\n",
    "print(W,H)\n",
    "x = np.linspace(0, 1, W)\n",
    "y = np.linspace(0, 1, H)\n",
    "xx, yy = np.meshgrid(x, y)  # shape: (H, W)\n",
    "\n",
    "X = torch.tensor(np.stack([xx, yy], axis=-1).reshape(-1, 2), dtype = torch.float32)  # shape: (H*W, 2)\n",
    "\n",
    "# Use this for gaussian to load corresponding frequencies, otherwise comment out\n",
    "with open('./gau_freq.pkl', 'rb') as file:\n",
    "    freq = pickle.load(file)\n",
    "\n",
    "X = fourier_encode(X, freq = freq) # comment this line out if using standard or STAF, use freq = [1, 1] for fourier or freq = freq for gaussian\n",
    "\n",
    "with torch.no_grad():\n",
    "    Y = model(X) \n",
    "\n",
    "image = Y.reshape(W, H, 1) # [9019, 1] -> [91, 109, 1]\n",
    "print(Y.shape, W, H)\n",
    "print('min max of image',image.min(), image.max(), type(image))\n",
    "\n",
    "gt_df = torch.Tensor(df.intensity).reshape(W,H,1)\n",
    "gt_df_diff = torch.sum(torch.abs(gt_df - image), axis=2)\n",
    "print('real diff from df', gt_df_diff.mean())\n",
    "# gt = Image.open(\"./ground_truth.jpg\")\n",
    "#W, H = gt.size[0]//10, gt.size[1]//10 #if you downsampled the training image\n",
    "# gt = gt.resize((W, H))\n",
    "\n",
    "# to_tensor = transforms.ToTensor()\n",
    "# gt = to_tensor(gt)\n",
    "# gt = rearrange(gt, 'k i j -> i j k')\n",
    "# gt = np.load('ground_truth.npy')[...,np.newaxis].transpose(1,0,2)\n",
    "# print('min max of gt',gt.min(), gt.max(), gt.shape)\n",
    "# dif = torch.sum(torch.abs(torch.Tensor(gt) - image), axis = 2)\n",
    "# print('diff', dif.mean())\n",
    "\n",
    "print(f\"The image resolution is: {W}x{H}\")\n",
    "\n",
    "print('reconstructed')\n",
    "plt.imshow(image)\n",
    "plt.axis('off')\n",
    "plt.show()\n",
    "\n",
    "print('gt')\n",
    "plt.imshow(gt_df)\n",
    "plt.axis('off')\n",
    "plt.show()\n",
    "\n",
    "# plt.imshow(gt)\n",
    "# plt.axis('off')\n",
    "# plt.show()\n",
    "\n",
    "print('dif')\n",
    "plt.imshow(gt_df_diff)\n",
    "plt.axis('off')\n",
    "plt.show()"
   ]
  },
  {
   "cell_type": "code",
   "execution_count": 206,
   "metadata": {},
   "outputs": [
    {
     "data": {
      "text/plain": [
       "tensor([0.0000, 0.0093, 0.0185,  ..., 0.9815, 0.9907, 1.0000])"
      ]
     },
     "execution_count": 206,
     "metadata": {},
     "output_type": "execute_result"
    }
   ],
   "source": [
    "torch.Tensor(df.x_pos)"
   ]
  },
  {
   "cell_type": "code",
   "execution_count": 205,
   "metadata": {},
   "outputs": [
    {
     "data": {
      "text/plain": [
       "tensor([0.0000, 0.0093, 0.0185,  ..., 0.9815, 0.9907, 1.0000])"
      ]
     },
     "execution_count": 205,
     "metadata": {},
     "output_type": "execute_result"
    }
   ],
   "source": [
    "X[:,0]"
   ]
  },
  {
   "cell_type": "code",
   "execution_count": 95,
   "metadata": {},
   "outputs": [
    {
     "data": {
      "text/plain": [
       "(tensor(0.), tensor(1.), tensor(0.), tensor(1.))"
      ]
     },
     "execution_count": 95,
     "metadata": {},
     "output_type": "execute_result"
    }
   ],
   "source": [
    "X[:,0].min(), X[:,0].max(), X[:,1].min(), X[:,1].max()"
   ]
  },
  {
   "cell_type": "code",
   "execution_count": 251,
   "metadata": {},
   "outputs": [
    {
     "ename": "RuntimeError",
     "evalue": "shape '[91, 109, 1]' is invalid for input of size 9720",
     "output_type": "error",
     "traceback": [
      "\u001b[31m---------------------------------------------------------------------------\u001b[39m",
      "\u001b[31mRuntimeError\u001b[39m                              Traceback (most recent call last)",
      "\u001b[36mCell\u001b[39m\u001b[36m \u001b[39m\u001b[32mIn[251]\u001b[39m\u001b[32m, line 38\u001b[39m\n\u001b[32m     35\u001b[39m \u001b[38;5;28;01mwith\u001b[39;00m torch.no_grad():\n\u001b[32m     36\u001b[39m     Y = model(X) \n\u001b[32m---> \u001b[39m\u001b[32m38\u001b[39m image = \u001b[43mY\u001b[49m\u001b[43m.\u001b[49m\u001b[43mreshape\u001b[49m\u001b[43m(\u001b[49m\u001b[43mH\u001b[49m\u001b[43m,\u001b[49m\u001b[43m \u001b[49m\u001b[43mW\u001b[49m\u001b[43m,\u001b[49m\u001b[43m \u001b[49m\u001b[32;43m1\u001b[39;49m\u001b[43m)\u001b[49m\n\u001b[32m     39\u001b[39m \u001b[38;5;28mprint\u001b[39m(image.min(), image.max())\n\u001b[32m     40\u001b[39m image = torch.clip(image, \u001b[32m0\u001b[39m, \u001b[32m1\u001b[39m)\n",
      "\u001b[31mRuntimeError\u001b[39m: shape '[91, 109, 1]' is invalid for input of size 9720"
     ]
    }
   ],
   "source": [
    "#Evaluation cell, uncomment the correct model and corresponding lines, make sure the paremeters match and the correct frequency file is loaded if using gaussian\n",
    "\n",
    "\n",
    "# Use this for standard\n",
    "model = ImageINRModel(input_size = 2)\n",
    "\n",
    "# Use this for fourier\n",
    "#model = ImageINRModel(input_size = 4) \n",
    "\n",
    "# use this for gaussian or passing in custom frequencies, change this to correct number of frequencies from training\n",
    "# num_freq = 256\n",
    "# model = ImageINRModel(input_size = 4*num_freq) \n",
    "\n",
    "#model = INR(2, 256, 4, 3) #Use this as model if evaluating STAF model\n",
    "\n",
    "#define path to model checkpoint \n",
    "path = './run.pth' \n",
    "checkpoint = torch.load(path)\n",
    "model.load_state_dict(checkpoint[\"model_state_dict\"])\n",
    "model.eval()\n",
    "\n",
    "# Create normalized grid: x in [0, 1], y in [0, 1]\n",
    "x = np.linspace(0, 1, W-1)\n",
    "y = np.linspace(0, 1, H-1)\n",
    "xx, yy = np.meshgrid(x, y)  # shape: (H, W)\n",
    "\n",
    "X = torch.tensor(np.stack([xx, yy], axis=-1).reshape(-1, 2), dtype = torch.float32)  # shape: (H*W, 2)\n",
    "\n",
    "# Use this for gaussian to load corresponding frequencies, otherwise comment out\n",
    "# with open('./freq_10.pkl', 'rb') as file:\n",
    "  #  freq = pickle.load(file)\n",
    "\n",
    "# X = fourier_encode(X, freq = freq) # comment this line out if using standard or STAF, use freq = [1, 1] for fourier or freq = freq for gaussian\n",
    "\n",
    "with torch.no_grad():\n",
    "    Y = model(X) \n",
    "\n",
    "image = Y.reshape(H, W, 1)\n",
    "print(image.min(), image.max())\n",
    "image = torch.clip(image, 0, 1)\n",
    "print(image.min(), image.max())\n",
    "    \n",
    "gt = Image.open(\"./ground_truth.jpg\")\n",
    "\n",
    "#W, H = gt.size[0]//10, gt.size[1]//10 #if you downsampled the training image\n",
    "gt = gt.resize((W, H))\n",
    "\n",
    "to_tensor = transforms.ToTensor()\n",
    "gt = to_tensor(gt)\n",
    "gt = rearrange(gt, 'k i j -> i j k')\n",
    "\n",
    "dif = torch.sum(torch.abs(gt - image), axis = 2)/3\n",
    "\n",
    "\n",
    "print(f\"The image resolution is: {W}x{H}\")\n",
    "plt.imshow(image)\n",
    "plt.axis('off')\n",
    "plt.show()\n",
    "\n",
    "plt.imshow(gt)\n",
    "plt.axis('off')\n",
    "plt.show()\n",
    "\n",
    "plt.imshow(dif)\n",
    "plt.axis('off')\n",
    "plt.show()"
   ]
  },
  {
   "cell_type": "code",
   "execution_count": null,
   "metadata": {},
   "outputs": [],
   "source": []
  }
 ],
 "metadata": {
  "accelerator": "GPU",
  "colab": {
   "gpuType": "T4",
   "provenance": []
  },
  "kernelspec": {
   "display_name": "Python (sliceanalysis)",
   "language": "python",
   "name": "slice-analysis"
  },
  "language_info": {
   "codemirror_mode": {
    "name": "ipython",
    "version": 3
   },
   "file_extension": ".py",
   "mimetype": "text/x-python",
   "name": "python",
   "nbconvert_exporter": "python",
   "pygments_lexer": "ipython3",
   "version": "3.13.5"
  }
 },
 "nbformat": 4,
 "nbformat_minor": 4
}
